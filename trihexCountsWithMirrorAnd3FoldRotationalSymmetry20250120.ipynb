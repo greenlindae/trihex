{
  "nbformat": 4,
  "nbformat_minor": 0,
  "metadata": {
    "colab": {
      "provenance": [],
      "authorship_tag": "ABX9TyOmyO86TCkbj0TTbTSTQFHi",
      "include_colab_link": true
    },
    "kernelspec": {
      "name": "python3",
      "display_name": "Python 3"
    },
    "language_info": {
      "name": "python"
    }
  },
  "cells": [
    {
      "cell_type": "markdown",
      "metadata": {
        "id": "view-in-github",
        "colab_type": "text"
      },
      "source": [
        "<a href=\"https://colab.research.google.com/github/greenlindae/trihex/blob/main/trihexCountsWithMirrorAnd3FoldRotationalSymmetry20250120.ipynb\" target=\"_parent\"><img src=\"https://colab.research.google.com/assets/colab-badge.svg\" alt=\"Open In Colab\"/></a>"
      ]
    },
    {
      "cell_type": "markdown",
      "source": [
        "Trihex enumeration formulas"
      ],
      "metadata": {
        "id": "pfwDXMXTZXh9"
      }
    },
    {
      "cell_type": "code",
      "source": [
        "import csv\n",
        "import math"
      ],
      "metadata": {
        "id": "NChcRJaJZ_Jm"
      },
      "execution_count": 1,
      "outputs": []
    },
    {
      "cell_type": "markdown",
      "source": [
        "Preliminary factorization utilities"
      ],
      "metadata": {
        "id": "uiZsT3pGZvX8"
      }
    },
    {
      "cell_type": "code",
      "source": [
        "def prime_factors_with_exponents(n):\n",
        "    def prime_factors(n):\n",
        "        i = 2\n",
        "        factors = {}\n",
        "        while i * i <= n:\n",
        "            while (n % i) == 0:\n",
        "                if i in factors:\n",
        "                    factors[i] += 1\n",
        "                else:\n",
        "                    factors[i] = 1\n",
        "                n //= i\n",
        "            i += 1\n",
        "        if n > 1:\n",
        "            factors[n] = 1\n",
        "        return factors\n",
        "\n",
        "    factors = prime_factors(n)\n",
        "    return factors"
      ],
      "metadata": {
        "id": "t_-1mJiJZuEJ"
      },
      "execution_count": 2,
      "outputs": []
    },
    {
      "cell_type": "code",
      "source": [
        "def splitPrimeFactorsByMod3(n):\n",
        "  pp = prime_factors_with_exponents(n)\n",
        "  pp1 = {}\n",
        "  pp2 = {}\n",
        "  pp3 = {}\n",
        "  for kk in pp:\n",
        "    if (kk%3) == 1:\n",
        "      pp1[kk] = pp[kk]\n",
        "    if (kk%3) == 2:\n",
        "      pp2[kk] = pp[kk]\n",
        "    if (kk%3) == 0:\n",
        "      pp3[kk] = pp[kk]\n",
        "  return(pp1, pp2, pp3)"
      ],
      "metadata": {
        "id": "2A2g9CbYaJ3S"
      },
      "execution_count": 3,
      "outputs": []
    },
    {
      "cell_type": "code",
      "source": [
        "def splitPrimeFactorsBy2AndByMod3(n):\n",
        "  pp = prime_factors_with_exponents(n)\n",
        "  pp1 = {}\n",
        "  pp2 = {}\n",
        "  pp3 = {}\n",
        "  pp0 = {}\n",
        "  for kk in pp:\n",
        "    if (kk%3) == 1:\n",
        "      pp1[kk] = pp[kk]\n",
        "    if (((kk%3) == 2) and kk > 2):\n",
        "      pp2[kk] = pp[kk]\n",
        "    if (kk%3) == 0:\n",
        "      pp3[kk] = pp[kk]\n",
        "    if (kk == 2):\n",
        "      pp0[kk] = pp[kk]\n",
        "  return(pp1, pp2, pp3, pp0)"
      ],
      "metadata": {
        "id": "EUyQx_uqfZv3"
      },
      "execution_count": 4,
      "outputs": []
    },
    {
      "cell_type": "markdown",
      "source": [
        "Sigma(V) is the number of signatures with V vertices"
      ],
      "metadata": {
        "id": "X6hn-4pqZob6"
      }
    },
    {
      "cell_type": "code",
      "source": [
        "def sigma(V):\n",
        "  # the number of signatures with V vertices\n",
        "  if (V%4) != 0:\n",
        "    print(\"V must be a multiple of 4\")\n",
        "    return -1\n",
        "  aa = prime_factors_with_exponents(V/4)\n",
        "  prod = 1\n",
        "  for kk in aa:\n",
        "    prod = prod*((kk**(aa[kk]+1) - 1)/(kk - 1))\n",
        "  return prod"
      ],
      "metadata": {
        "id": "m44_yvqAZZi7"
      },
      "execution_count": 5,
      "outputs": []
    },
    {
      "cell_type": "markdown",
      "source": [
        "delta(V) is the number of coinciding signatures, which is also the number trihexes with 3-fold rotational symmetry"
      ],
      "metadata": {
        "id": "-OKCeTMeaaJQ"
      }
    },
    {
      "cell_type": "code",
      "source": [
        "def delta(V):\n",
        "  # the number of coinciding signatures,\n",
        "  # which is also the number of trihexes with 3-fold rotational symmetry\n",
        "  if (V%4) != 0:\n",
        "    print(\"V must be a multiple of 4\")\n",
        "    return -1\n",
        "  (pp1, pp2, pp3) = splitPrimeFactorsByMod3(V/4)\n",
        "  #print(\"pp1 = \", pp1)\n",
        "  for kk in pp2:\n",
        "    if pp2[kk]%2 == 1:\n",
        "      return 0\n",
        "  prod = 1\n",
        "  for kk in pp1:\n",
        "    prod = prod*(pp1[kk]+1)\n",
        "  return prod"
      ],
      "metadata": {
        "id": "7JwBoT5WZeMw"
      },
      "execution_count": 6,
      "outputs": []
    },
    {
      "cell_type": "markdown",
      "source": [
        "mu(V) is the number of signatures whose mirror signature is identical to itself. This is also the number of trihexes with reflection symmetry"
      ],
      "metadata": {
        "id": "5kxujsupav9C"
      }
    },
    {
      "cell_type": "code",
      "source": [
        "def mu(V):\n",
        "  # the number of signatures that are self-mirror\n",
        "  if (V%4) != 0:\n",
        "    print(\"V must be a multiple of 4\")\n",
        "    return -1\n",
        "  aa = prime_factors_with_exponents(V/4)\n",
        "  prod = 1\n",
        "  for kk in aa:\n",
        "    if kk == 2:\n",
        "      prod = prod*(2*aa[kk] -1)\n",
        "    else:\n",
        "      prod = prod*(aa[kk]+1)\n",
        "  return prod"
      ],
      "metadata": {
        "id": "joqKtHmuZhCj"
      },
      "execution_count": 7,
      "outputs": []
    },
    {
      "cell_type": "markdown",
      "source": [
        "nu(V) is the number of coinciding signatures whose mirror signature is identical to itself. This is also the number of trihexes with 3-fold rotational symmetry and reflection symmetry\n"
      ],
      "metadata": {
        "id": "a1ABuZ4WbBkF"
      }
    },
    {
      "cell_type": "code",
      "source": [
        "def nu(V):\n",
        "  if (V%4) != 0:\n",
        "    print(\"V must be a multiple of 4\")\n",
        "    return -1\n",
        "  aa = prime_factors_with_exponents(V/4)\n",
        "  for kk in aa:\n",
        "    if kk != 3:\n",
        "      if aa[kk] % 2 == 1:\n",
        "        return 0\n",
        "  return 1"
      ],
      "metadata": {
        "id": "_G2vQI6AZkGo"
      },
      "execution_count": 8,
      "outputs": []
    },
    {
      "cell_type": "markdown",
      "source": [
        "number of trihexes"
      ],
      "metadata": {
        "id": "pbxdT_LObMLx"
      }
    },
    {
      "cell_type": "code",
      "source": [
        "def trihexCount(V):\n",
        "  a = sigma(V)/3 + 2*delta(V)/3\n",
        "  if not (a.is_integer()):\n",
        "    print(\"Error: non-integer value for trihexCount\")\n",
        "    return -1\n",
        "  return int(a)"
      ],
      "metadata": {
        "id": "3eB8Cf_MbOQj"
      },
      "execution_count": 9,
      "outputs": []
    },
    {
      "cell_type": "markdown",
      "source": [
        "number of trihex graphs"
      ],
      "metadata": {
        "id": "BLwrbF2Pbl-S"
      }
    },
    {
      "cell_type": "code",
      "source": [
        "def trihexGraphCount(V):\n",
        "  # the number of isomorphism classes of trihexes with V vertices\n",
        "  a = (sigma(V) + 2*delta(V) + 3*mu(V))/6\n",
        "  if not (a.is_integer()):\n",
        "    print(\"Error: non-integer value for trihexGraphCount\")\n",
        "    return -1\n",
        "  return int(a)\n"
      ],
      "metadata": {
        "id": "16XYNJbtbnac"
      },
      "execution_count": 10,
      "outputs": []
    },
    {
      "cell_type": "markdown",
      "source": [
        "raw formulas not in terms of sigma, delta, and mu"
      ],
      "metadata": {
        "id": "KRM8BaWxfFpo"
      }
    },
    {
      "cell_type": "code",
      "source": [
        "def trihexGraphCountFormula(V):\n",
        "  (pp1, pp2, pp3, pp0) = splitPrimeFactorsBy2AndByMod3(V/4)\n",
        "  if pp0 == {}:\n",
        "    whichFormula = \"no2noOdd\"\n",
        "    for kk in pp2:\n",
        "      if pp2[kk]%2 == 1:\n",
        "        whichFormula = \"no2yesOdd\"\n",
        "  else:\n",
        "    whichFormula = \"yes2noOdd\"\n",
        "    for kk in pp2:\n",
        "      if pp2[kk]%2 == 1:\n",
        "        whichFormula = \"yes2yesOdd\"\n",
        "    for kk in pp0:\n",
        "      if pp0[kk]%2 == 1:\n",
        "        whichFormula = \"yes2yesOdd\"\n",
        "  #print(whichFormula)\n",
        "  firstProd = 1\n",
        "  for kk in pp1:\n",
        "    firstProd = firstProd*(kk**(pp1[kk]+1) - 1)/(kk - 1)\n",
        "  for kk in pp2:\n",
        "    firstProd = firstProd*(kk**(pp2[kk]+1) - 1)/(kk - 1)\n",
        "  for kk in pp3:\n",
        "    firstProd = firstProd*(kk**(pp3[kk]+1) - 1)/(kk - 1)\n",
        "  for kk in pp0:\n",
        "    firstProd = firstProd*(kk**(pp0[kk]+1) - 1)/(kk - 1)\n",
        "\n",
        "\n",
        "  secondProd = 1\n",
        "  if whichFormula == \"no2noOdd\":\n",
        "    for kk in pp1:\n",
        "      secondProd = secondProd*((pp1[kk]+1))\n",
        "  if whichFormula == \"yes2noOdd\":\n",
        "    for kk in pp1:\n",
        "      secondProd = secondProd*((pp1[kk]+1))\n",
        "  if whichFormula == \"no2yesOdd\":\n",
        "    secondProd = 0\n",
        "  if whichFormula == \"yes2yesOdd\":\n",
        "    secondProd = 0\n",
        "\n",
        "\n",
        "  thirdProd = 1\n",
        "  if (whichFormula == \"no2noOdd\") or (whichFormula == \"no2yesOdd\"):\n",
        "    for kk in pp1:\n",
        "      thirdProd = thirdProd*((pp1[kk]+1))\n",
        "    for kk in pp2:\n",
        "      thirdProd = thirdProd*((pp2[kk]+1))\n",
        "    for kk in pp3:\n",
        "      thirdProd = thirdProd*((pp3[kk]+1))\n",
        "\n",
        "\n",
        "  if (whichFormula == \"yes2noOdd\") | (whichFormula == \"yes2yesOdd\"):\n",
        "    for kk in pp1:\n",
        "      thirdProd = thirdProd*((pp1[kk]+1))\n",
        "    for kk in pp2:\n",
        "      thirdProd = thirdProd*((pp2[kk]+1))\n",
        "    for kk in pp3:\n",
        "      thirdProd = thirdProd*((pp3[kk]+1))\n",
        "    for kk in pp0:\n",
        "      thirdProd = thirdProd*(2*pp0[kk]-1)\n",
        "\n",
        "\n",
        "  return (firstProd, secondProd, thirdProd, firstProd/6 + secondProd/3 + thirdProd/2)\n",
        "\n",
        "\n"
      ],
      "metadata": {
        "id": "f3ZrbVokfNXY"
      },
      "execution_count": 13,
      "outputs": []
    },
    {
      "cell_type": "markdown",
      "source": [
        "test out functions"
      ],
      "metadata": {
        "id": "-AZE6CXEaW_o"
      }
    },
    {
      "cell_type": "code",
      "source": [
        "for ii in range(1,10):\n",
        "  jj = 4*ii\n",
        "  print(jj, sigma(jj), delta(jj), mu(jj), trihexGraphCount(jj), trihexGraphCountFormula(jj))"
      ],
      "metadata": {
        "id": "Yh3DsaE_kwil"
      },
      "execution_count": null,
      "outputs": []
    },
    {
      "cell_type": "markdown",
      "source": [
        "more testing"
      ],
      "metadata": {
        "id": "l448UrdSJWF5"
      }
    },
    {
      "cell_type": "code",
      "source": [
        "for ii in range(1,10):\n",
        "  jj = 4*ii\n",
        "  print(jj, trihexGraphCount(jj), trihexGraphCountFormula(jj)[3])"
      ],
      "metadata": {
        "id": "Utphtc2hgUnY"
      },
      "execution_count": null,
      "outputs": []
    },
    {
      "cell_type": "markdown",
      "source": [
        "store values"
      ],
      "metadata": {
        "id": "3tmHDdFqaYRp"
      }
    },
    {
      "cell_type": "code",
      "source": [
        "def storeCsvFileOfTrihexCounts(maxV):\n",
        "  with open('triHexEnumerationWithSymmetry.csv', mode='w') as sig_file:\n",
        "    sig_writer = csv.writer(sig_file, delimiter=',', quotechar='\"', quoting=csv.QUOTE_MINIMAL)\n",
        "    sig_writer.writerow([\"Number of Vertices\", \"Number of Trihexes\", \"Number of Trihex Graphs\", \"With 3-fold Rotational Symmetry\", \"With Mirror Symmetry\", \"With Both Symmetries\"])\n",
        "    for ii in range(1,maxV+1):\n",
        "      if (ii % 4  == 0):\n",
        "        sig_writer.writerow([ii, trihexCount(ii), trihexGraphCount(ii), delta(ii), mu(ii), nu(ii)])"
      ],
      "metadata": {
        "id": "Ge8x7607aTI0"
      },
      "execution_count": null,
      "outputs": []
    },
    {
      "cell_type": "code",
      "source": [
        "storeCsvFileOfTrihexCounts(1000)"
      ],
      "metadata": {
        "id": "BItTNGgrenfc"
      },
      "execution_count": null,
      "outputs": []
    }
  ]
}